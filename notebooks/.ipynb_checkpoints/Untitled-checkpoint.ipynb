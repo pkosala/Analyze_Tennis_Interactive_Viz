{
 "cells": [
  {
   "cell_type": "code",
   "execution_count": 4,
   "metadata": {},
   "outputs": [],
   "source": [
    "import pandas as pd\n",
    "import numpy as np\n",
    "from sklearn.manifold import MDS"
   ]
  },
  {
   "cell_type": "code",
   "execution_count": 38,
   "metadata": {},
   "outputs": [
    {
     "name": "stderr",
     "output_type": "stream",
     "text": [
      "/home/local/ASUAD/usoni1/virtual_environments/venv_3/lib/python3.6/site-packages/ipykernel_launcher.py:3: FutureWarning: Method .as_matrix will be removed in a future version. Use .values instead.\n",
      "  This is separate from the ipykernel package so we can avoid doing imports until\n",
      "/home/local/ASUAD/usoni1/virtual_environments/venv_3/lib/python3.6/site-packages/ipykernel_launcher.py:4: FutureWarning: Method .as_matrix will be removed in a future version. Use .values instead.\n",
      "  after removing the cwd from sys.path.\n"
     ]
    }
   ],
   "source": [
    "df = pd.read_csv(\"10yearAUSOpenMatches.csv\")\n",
    "df = df.dropna()\n",
    "wd = df.as_matrix(columns = df.columns[range(9, 37, 2)])\n",
    "ld =  df.as_matrix(columns = df.columns[range(10, 37, 2)])\n",
    "wd = wd.astype(float)\n",
    "ld = ld.astype(float)"
   ]
  },
  {
   "cell_type": "code",
   "execution_count": 37,
   "metadata": {},
   "outputs": [
    {
     "data": {
      "text/plain": [
       "800"
      ]
     },
     "execution_count": 37,
     "metadata": {},
     "output_type": "execute_result"
    }
   ],
   "source": [
    "len(wd)"
   ]
  },
  {
   "cell_type": "code",
   "execution_count": 36,
   "metadata": {},
   "outputs": [
    {
     "data": {
      "text/plain": [
       "array([[52., 11.,  6., ..., 71., 64., 72.],\n",
       "       [69., 20.,  4., ..., 95., 76., 65.],\n",
       "       [65.,  8.,  2., ..., 38., 18., 50.],\n",
       "       ...,\n",
       "       [64.,  7.,  4., ..., 49., 57., 52.],\n",
       "       [60., 13.,  8., ..., 40., 36., 64.],\n",
       "       [65.,  9.,  3., ..., 35., 41., 50.]])"
      ]
     },
     "execution_count": 36,
     "metadata": {},
     "output_type": "execute_result"
    }
   ],
   "source": [
    "ld"
   ]
  },
  {
   "cell_type": "code",
   "execution_count": 17,
   "metadata": {},
   "outputs": [
    {
     "data": {
      "text/plain": [
       "Index(['firstServe2', 'ace2', 'double2', 'firstPointWon2', 'secPointWon2',\n",
       "       'fastServe2', 'avgFirstServe2', 'avgSecServe2', 'break2', 'return2',\n",
       "       'total2', 'winner2', 'error2', 'net2'],\n",
       "      dtype='object')"
      ]
     },
     "execution_count": 17,
     "metadata": {},
     "output_type": "execute_result"
    }
   ],
   "source": []
  },
  {
   "cell_type": "code",
   "execution_count": null,
   "metadata": {},
   "outputs": [],
   "source": []
  }
 ],
 "metadata": {
  "kernelspec": {
   "display_name": "Python 3",
   "language": "python",
   "name": "python3"
  },
  "language_info": {
   "codemirror_mode": {
    "name": "ipython",
    "version": 3
   },
   "file_extension": ".py",
   "mimetype": "text/x-python",
   "name": "python",
   "nbconvert_exporter": "python",
   "pygments_lexer": "ipython3",
   "version": "3.6.7"
  }
 },
 "nbformat": 4,
 "nbformat_minor": 2
}
